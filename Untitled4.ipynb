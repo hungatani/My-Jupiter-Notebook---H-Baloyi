{
  "metadata": {
    "language_info": {
      "codemirror_mode": {
        "name": "python",
        "version": 3
      },
      "file_extension": ".py",
      "mimetype": "text/x-python",
      "name": "python",
      "nbconvert_exporter": "python",
      "pygments_lexer": "ipython3",
      "version": "3.8"
    },
    "kernelspec": {
      "name": "python",
      "display_name": "Pyolite",
      "language": "python"
    }
  },
  "nbformat_minor": 4,
  "nbformat": 4,
  "cells": [
    {
      "cell_type": "markdown",
      "source": "My Jupyter Notebook on IBM Watson Studio\n\n",
      "metadata": {}
    },
    {
      "cell_type": "markdown",
      "source": "Hungatani Baloyi\n\nData Scientist",
      "metadata": {}
    },
    {
      "cell_type": "markdown",
      "source": "I am interested in data science because l work a lot with numbers and hence being a data scientist will enable me to better analyse the patterns in the data that l use and help in teeling a story that will assist management in decision making.",
      "metadata": {}
    },
    {
      "cell_type": "markdown",
      "source": "Addition",
      "metadata": {}
    },
    {
      "cell_type": "code",
      "source": "5+5",
      "metadata": {
        "trusted": true
      },
      "execution_count": 1,
      "outputs": [
        {
          "execution_count": 1,
          "output_type": "execute_result",
          "data": {
            "text/plain": "10"
          },
          "metadata": {}
        }
      ]
    },
    {
      "cell_type": "markdown",
      "source": "________________  ",
      "metadata": {}
    },
    {
      "cell_type": "code",
      "source": "",
      "metadata": {},
      "execution_count": null,
      "outputs": []
    }
  ]
}